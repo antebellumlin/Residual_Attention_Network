{
 "cells": [
  {
   "cell_type": "code",
   "execution_count": 2,
   "metadata": {},
   "outputs": [],
   "source": [
    "from pickle import load\n",
    "with open('train_accHistory', 'rb') as handle: # loading old history \n",
    "    oldhstry = load(handle)"
   ]
  },
  {
   "cell_type": "code",
   "execution_count": 3,
   "metadata": {},
   "outputs": [
    {
     "name": "stdout",
     "output_type": "stream",
     "text": [
      "[0.3337, 0.44146, 0.50876, 0.55682, 0.60718, 0.63788, 0.66736, 0.68776, 0.70422, 0.71812, 0.72884, 0.7403, 0.7517, 0.75864, 0.7688, 0.77816, 0.77924, 0.78378, 0.78938, 0.7951, 0.80286, 0.80364, 0.81016, 0.8141, 0.81624, 0.8195, 0.8253, 0.82448, 0.83046, 0.8336, 0.83706, 0.83888, 0.8417, 0.84388, 0.84522, 0.84638, 0.84976, 0.85348, 0.85224, 0.85682, 0.8557, 0.85964, 0.85638, 0.85972, 0.86398, 0.86796, 0.86616, 0.86918, 0.87336, 0.8724, 0.87016, 0.87328, 0.87738, 0.8792, 0.88206, 0.88208, 0.88398, 0.88428, 0.88982, 0.89128, 0.8927, 0.88988, 0.8972, 0.89714, 0.89864, 0.89882, 0.90136, 0.90302, 0.90342, 0.9075, 0.90674, 0.90752, 0.91074, 0.90714, 0.91312, 0.91364, 0.91224, 0.91428, 0.91346, 0.91602, 0.91746, 0.91922, 0.92102, 0.91966, 0.92142, 0.92192, 0.922, 0.9237, 0.92392, 0.92702, 0.92614, 0.92792, 0.92562, 0.92826, 0.93034, 0.93196, 0.93162, 0.93092, 0.93106, 0.93344]\n"
     ]
    }
   ],
   "source": [
    "print(oldhstry)"
   ]
  },
  {
   "cell_type": "code",
   "execution_count": null,
   "metadata": {},
   "outputs": [],
   "source": []
  }
 ],
 "metadata": {
  "kernelspec": {
   "display_name": "Python 3",
   "language": "python",
   "name": "python3"
  },
  "language_info": {
   "codemirror_mode": {
    "name": "ipython",
    "version": 3
   },
   "file_extension": ".py",
   "mimetype": "text/x-python",
   "name": "python",
   "nbconvert_exporter": "python",
   "pygments_lexer": "ipython3",
   "version": "3.6.7"
  }
 },
 "nbformat": 4,
 "nbformat_minor": 2
}
